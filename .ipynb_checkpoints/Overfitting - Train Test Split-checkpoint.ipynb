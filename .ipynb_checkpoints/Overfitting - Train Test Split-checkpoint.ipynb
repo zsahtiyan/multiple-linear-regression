{
 "cells": [
  {
   "cell_type": "markdown",
   "id": "853aab62",
   "metadata": {},
   "source": [
    "Overfitting durumunun önüne geçilmesi için datanın %80'i ile model kurulur ve kalanı ile test edilir. Böylelikle model daha önce öğrenmediği bir data ile test edilerek sağlamlığı görülür."
   ]
  },
  {
   "cell_type": "code",
   "execution_count": 1,
   "id": "d5dec86b",
   "metadata": {},
   "outputs": [],
   "source": [
    "import numpy as np\n",
    "from sklearn.model_selection import train_test_split "
   ]
  },
  {
   "cell_type": "code",
   "execution_count": 2,
   "id": "e26e8a76",
   "metadata": {},
   "outputs": [],
   "source": [
    "a = np.arange(1,101)"
   ]
  },
  {
   "cell_type": "code",
   "execution_count": 3,
   "id": "32e49731",
   "metadata": {},
   "outputs": [
    {
     "data": {
      "text/plain": [
       "array([  1,   2,   3,   4,   5,   6,   7,   8,   9,  10,  11,  12,  13,\n",
       "        14,  15,  16,  17,  18,  19,  20,  21,  22,  23,  24,  25,  26,\n",
       "        27,  28,  29,  30,  31,  32,  33,  34,  35,  36,  37,  38,  39,\n",
       "        40,  41,  42,  43,  44,  45,  46,  47,  48,  49,  50,  51,  52,\n",
       "        53,  54,  55,  56,  57,  58,  59,  60,  61,  62,  63,  64,  65,\n",
       "        66,  67,  68,  69,  70,  71,  72,  73,  74,  75,  76,  77,  78,\n",
       "        79,  80,  81,  82,  83,  84,  85,  86,  87,  88,  89,  90,  91,\n",
       "        92,  93,  94,  95,  96,  97,  98,  99, 100])"
      ]
     },
     "execution_count": 3,
     "metadata": {},
     "output_type": "execute_result"
    }
   ],
   "source": [
    "a"
   ]
  },
  {
   "cell_type": "code",
   "execution_count": 4,
   "id": "0150436f",
   "metadata": {},
   "outputs": [],
   "source": [
    "b = np.arange(501,601)"
   ]
  },
  {
   "cell_type": "code",
   "execution_count": 5,
   "id": "a1045085",
   "metadata": {},
   "outputs": [
    {
     "data": {
      "text/plain": [
       "array([501, 502, 503, 504, 505, 506, 507, 508, 509, 510, 511, 512, 513,\n",
       "       514, 515, 516, 517, 518, 519, 520, 521, 522, 523, 524, 525, 526,\n",
       "       527, 528, 529, 530, 531, 532, 533, 534, 535, 536, 537, 538, 539,\n",
       "       540, 541, 542, 543, 544, 545, 546, 547, 548, 549, 550, 551, 552,\n",
       "       553, 554, 555, 556, 557, 558, 559, 560, 561, 562, 563, 564, 565,\n",
       "       566, 567, 568, 569, 570, 571, 572, 573, 574, 575, 576, 577, 578,\n",
       "       579, 580, 581, 582, 583, 584, 585, 586, 587, 588, 589, 590, 591,\n",
       "       592, 593, 594, 595, 596, 597, 598, 599, 600])"
      ]
     },
     "execution_count": 5,
     "metadata": {},
     "output_type": "execute_result"
    }
   ],
   "source": [
    "b"
   ]
  },
  {
   "cell_type": "markdown",
   "id": "d85127a2",
   "metadata": {},
   "source": [
    "# Split the data"
   ]
  },
  {
   "cell_type": "code",
   "execution_count": 6,
   "id": "d77e03e5",
   "metadata": {},
   "outputs": [
    {
     "data": {
      "text/plain": [
       "[array([ 30,  72,  44,  81,  80,  11,  40,  69,  75,  55,  71,  64,  21,\n",
       "         97,   1,  56,  45, 100,  91,  93,  68,  51,  95,  20,  47,  54,\n",
       "         58,  87,  35,  46,  57,  24,   4,  79,  49,  36,  61,  74,   7,\n",
       "         52,  17,  82,  88,  83,  38,  31,  60,  37,  42,  23,  32,  18,\n",
       "          6,  43,   8,  14,   2,  85,  73,  25,  70,  39,  84,  89,  98,\n",
       "          3,  41,  94,  53,  10,  65,  27,  76,  59,  77]),\n",
       " array([12, 28, 78, 50, 67, 90, 96, 66, 16, 15,  9, 86, 92, 29, 19,  5, 22,\n",
       "        34, 99, 13, 63, 26, 33, 48, 62])]"
      ]
     },
     "execution_count": 6,
     "metadata": {},
     "output_type": "execute_result"
    }
   ],
   "source": [
    "train_test_split(a)"
   ]
  },
  {
   "cell_type": "code",
   "execution_count": 15,
   "id": "42da045b",
   "metadata": {},
   "outputs": [],
   "source": [
    "a_train, a_test , b_train , b_test= train_test_split(a, b, test_size=0.2) #shuffle argümanı ile dataları karıştırabiliriz/karıştırmadan alabiliriz"
   ]
  },
  {
   "cell_type": "markdown",
   "id": "c9f2c40b",
   "metadata": {},
   "source": [
    "# Explore the result"
   ]
  },
  {
   "cell_type": "code",
   "execution_count": 16,
   "id": "3f69e4d6",
   "metadata": {},
   "outputs": [
    {
     "data": {
      "text/plain": [
       "((80,), (20,))"
      ]
     },
     "execution_count": 16,
     "metadata": {},
     "output_type": "execute_result"
    }
   ],
   "source": [
    "a_train.shape, a_test.shape"
   ]
  },
  {
   "cell_type": "code",
   "execution_count": 17,
   "id": "b9a0f1dd",
   "metadata": {},
   "outputs": [
    {
     "data": {
      "text/plain": [
       "array([ 19,  95,   6,   8,  55,  63,  53,  88,  42,  38,  93,  25,  74,\n",
       "        43,  90,   5,  54,  81,  86,  23,  35,  76,  24,  48,   4,  98,\n",
       "        28,  67,  22,  30,  45,   7,  29,  12,  65,  79,  37,  50,  21,\n",
       "        33,  57,  36,  52,  89,  78,  16,  56,  34,  82,  68,  41,  39,\n",
       "        14,  15,  91,  70,  84,  47,  62, 100,  99,  18,  61,  17,  59,\n",
       "        92,  26,  83,  10,  96,  85,   2,  73,  80,  72,  31,  32,  60,\n",
       "        66,  77])"
      ]
     },
     "execution_count": 17,
     "metadata": {},
     "output_type": "execute_result"
    }
   ],
   "source": [
    "a_train"
   ]
  },
  {
   "cell_type": "code",
   "execution_count": 18,
   "id": "3cd6a6a7",
   "metadata": {},
   "outputs": [
    {
     "data": {
      "text/plain": [
       "array([97, 87, 13, 75, 49, 20,  1,  9, 69, 44, 58, 11, 64, 94, 40, 27, 71,\n",
       "       51,  3, 46])"
      ]
     },
     "execution_count": 18,
     "metadata": {},
     "output_type": "execute_result"
    }
   ],
   "source": [
    "a_test"
   ]
  },
  {
   "cell_type": "code",
   "execution_count": 21,
   "id": "99f4993e",
   "metadata": {},
   "outputs": [
    {
     "data": {
      "text/plain": [
       "((80,), (20,))"
      ]
     },
     "execution_count": 21,
     "metadata": {},
     "output_type": "execute_result"
    }
   ],
   "source": [
    "b_train.shape, b_test.shape"
   ]
  },
  {
   "cell_type": "code",
   "execution_count": null,
   "id": "ea86d9fb",
   "metadata": {},
   "outputs": [],
   "source": []
  }
 ],
 "metadata": {
  "kernelspec": {
   "display_name": "Python 3",
   "language": "python",
   "name": "python3"
  },
  "language_info": {
   "codemirror_mode": {
    "name": "ipython",
    "version": 3
   },
   "file_extension": ".py",
   "mimetype": "text/x-python",
   "name": "python",
   "nbconvert_exporter": "python",
   "pygments_lexer": "ipython3",
   "version": "3.8.8"
  }
 },
 "nbformat": 4,
 "nbformat_minor": 5
}
